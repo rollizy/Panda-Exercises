{
 "cells": [
  {
   "cell_type": "markdown",
   "metadata": {},
   "source": [
    "# Investor - Flow of Funds - US"
   ]
  },
  {
   "cell_type": "markdown",
   "metadata": {},
   "source": [
    "\n",
    "### Step 1. Import the necessary libraries"
   ]
  },
  {
   "cell_type": "code",
   "execution_count": 1,
   "metadata": {},
   "outputs": [],
   "source": []
  },
  {
   "cell_type": "markdown",
   "metadata": {},
   "source": [
    "### Step 2. Import the dataset from this [address](https://raw.githubusercontent.com/datasets/investor-flow-of-funds-us/master/data/weekly.csv). "
   ]
  },
  {
   "cell_type": "markdown",
   "metadata": {},
   "source": [
    "### Step 3. Assign it to a variable called "
   ]
  },
  {
   "cell_type": "code",
   "execution_count": 2,
   "metadata": {},
   "outputs": [
    {
     "data": {
      "text/html": [
       "<div>\n",
       "<style scoped>\n",
       "    .dataframe tbody tr th:only-of-type {\n",
       "        vertical-align: middle;\n",
       "    }\n",
       "\n",
       "    .dataframe tbody tr th {\n",
       "        vertical-align: top;\n",
       "    }\n",
       "\n",
       "    .dataframe thead th {\n",
       "        text-align: right;\n",
       "    }\n",
       "</style>\n",
       "<table border=\"1\" class=\"dataframe\">\n",
       "  <thead>\n",
       "    <tr style=\"text-align: right;\">\n",
       "      <th></th>\n",
       "      <th>Date</th>\n",
       "      <th>Total Equity</th>\n",
       "      <th>Domestic Equity</th>\n",
       "      <th>World Equity</th>\n",
       "      <th>Hybrid</th>\n",
       "      <th>Total Bond</th>\n",
       "      <th>Taxable Bond</th>\n",
       "      <th>Municipal Bond</th>\n",
       "      <th>Total</th>\n",
       "    </tr>\n",
       "  </thead>\n",
       "  <tbody>\n",
       "    <tr>\n",
       "      <th>0</th>\n",
       "      <td>2011-10-05</td>\n",
       "      <td>-4002</td>\n",
       "      <td>-4499.0</td>\n",
       "      <td>497</td>\n",
       "      <td>-1354.0</td>\n",
       "      <td>-5828</td>\n",
       "      <td>-6258.0</td>\n",
       "      <td>430</td>\n",
       "      <td>-11184.0</td>\n",
       "    </tr>\n",
       "    <tr>\n",
       "      <th>1</th>\n",
       "      <td>2011-10-12</td>\n",
       "      <td>-7397</td>\n",
       "      <td>-5842.0</td>\n",
       "      <td>-1555</td>\n",
       "      <td>512.0</td>\n",
       "      <td>3954</td>\n",
       "      <td>3927.0</td>\n",
       "      <td>28</td>\n",
       "      <td>-2931.0</td>\n",
       "    </tr>\n",
       "    <tr>\n",
       "      <th>2</th>\n",
       "      <td>2011-10-19</td>\n",
       "      <td>-3292</td>\n",
       "      <td>-3466.0</td>\n",
       "      <td>174</td>\n",
       "      <td>1399.0</td>\n",
       "      <td>5652</td>\n",
       "      <td>5102.0</td>\n",
       "      <td>550</td>\n",
       "      <td>3759.0</td>\n",
       "    </tr>\n",
       "    <tr>\n",
       "      <th>3</th>\n",
       "      <td>2011-10-26</td>\n",
       "      <td>-3696</td>\n",
       "      <td>-2998.0</td>\n",
       "      <td>-698</td>\n",
       "      <td>2631.0</td>\n",
       "      <td>4910</td>\n",
       "      <td>4070.0</td>\n",
       "      <td>841</td>\n",
       "      <td>3846.0</td>\n",
       "    </tr>\n",
       "    <tr>\n",
       "      <th>4</th>\n",
       "      <td>2011-12-07</td>\n",
       "      <td>-7956</td>\n",
       "      <td>-5761.0</td>\n",
       "      <td>-2196</td>\n",
       "      <td>1089.0</td>\n",
       "      <td>3523</td>\n",
       "      <td>2068.0</td>\n",
       "      <td>1456</td>\n",
       "      <td>-3343.0</td>\n",
       "    </tr>\n",
       "  </tbody>\n",
       "</table>\n",
       "</div>"
      ],
      "text/plain": [
       "         Date  Total Equity  Domestic Equity  World Equity  Hybrid  \\\n",
       "0  2011-10-05         -4002          -4499.0           497 -1354.0   \n",
       "1  2011-10-12         -7397          -5842.0         -1555   512.0   \n",
       "2  2011-10-19         -3292          -3466.0           174  1399.0   \n",
       "3  2011-10-26         -3696          -2998.0          -698  2631.0   \n",
       "4  2011-12-07         -7956          -5761.0         -2196  1089.0   \n",
       "\n",
       "   Total Bond  Taxable Bond  Municipal Bond    Total  \n",
       "0       -5828       -6258.0             430 -11184.0  \n",
       "1        3954        3927.0              28  -2931.0  \n",
       "2        5652        5102.0             550   3759.0  \n",
       "3        4910        4070.0             841   3846.0  \n",
       "4        3523        2068.0            1456  -3343.0  "
      ]
     },
     "execution_count": 2,
     "metadata": {},
     "output_type": "execute_result"
    }
   ],
   "source": []
  },
  {
   "cell_type": "markdown",
   "metadata": {},
   "source": [
    "### Step 4.  What is the frequency of the dataset?"
   ]
  },
  {
   "cell_type": "code",
   "execution_count": null,
   "metadata": {},
   "outputs": [],
   "source": []
  },
  {
   "cell_type": "markdown",
   "metadata": {},
   "source": [
    "### Step 5. Set the column Date as the index."
   ]
  },
  {
   "cell_type": "code",
   "execution_count": 3,
   "metadata": {},
   "outputs": [
    {
     "data": {
      "text/html": [
       "<div>\n",
       "<style scoped>\n",
       "    .dataframe tbody tr th:only-of-type {\n",
       "        vertical-align: middle;\n",
       "    }\n",
       "\n",
       "    .dataframe tbody tr th {\n",
       "        vertical-align: top;\n",
       "    }\n",
       "\n",
       "    .dataframe thead th {\n",
       "        text-align: right;\n",
       "    }\n",
       "</style>\n",
       "<table border=\"1\" class=\"dataframe\">\n",
       "  <thead>\n",
       "    <tr style=\"text-align: right;\">\n",
       "      <th></th>\n",
       "      <th>Total Equity</th>\n",
       "      <th>Domestic Equity</th>\n",
       "      <th>World Equity</th>\n",
       "      <th>Hybrid</th>\n",
       "      <th>Total Bond</th>\n",
       "      <th>Taxable Bond</th>\n",
       "      <th>Municipal Bond</th>\n",
       "      <th>Total</th>\n",
       "    </tr>\n",
       "    <tr>\n",
       "      <th>Date</th>\n",
       "      <th></th>\n",
       "      <th></th>\n",
       "      <th></th>\n",
       "      <th></th>\n",
       "      <th></th>\n",
       "      <th></th>\n",
       "      <th></th>\n",
       "      <th></th>\n",
       "    </tr>\n",
       "  </thead>\n",
       "  <tbody>\n",
       "    <tr>\n",
       "      <th>2011-10-05</th>\n",
       "      <td>-4002</td>\n",
       "      <td>-4499.0</td>\n",
       "      <td>497</td>\n",
       "      <td>-1354.0</td>\n",
       "      <td>-5828</td>\n",
       "      <td>-6258.0</td>\n",
       "      <td>430</td>\n",
       "      <td>-11184.0</td>\n",
       "    </tr>\n",
       "    <tr>\n",
       "      <th>2011-10-12</th>\n",
       "      <td>-7397</td>\n",
       "      <td>-5842.0</td>\n",
       "      <td>-1555</td>\n",
       "      <td>512.0</td>\n",
       "      <td>3954</td>\n",
       "      <td>3927.0</td>\n",
       "      <td>28</td>\n",
       "      <td>-2931.0</td>\n",
       "    </tr>\n",
       "    <tr>\n",
       "      <th>2011-10-19</th>\n",
       "      <td>-3292</td>\n",
       "      <td>-3466.0</td>\n",
       "      <td>174</td>\n",
       "      <td>1399.0</td>\n",
       "      <td>5652</td>\n",
       "      <td>5102.0</td>\n",
       "      <td>550</td>\n",
       "      <td>3759.0</td>\n",
       "    </tr>\n",
       "    <tr>\n",
       "      <th>2011-10-26</th>\n",
       "      <td>-3696</td>\n",
       "      <td>-2998.0</td>\n",
       "      <td>-698</td>\n",
       "      <td>2631.0</td>\n",
       "      <td>4910</td>\n",
       "      <td>4070.0</td>\n",
       "      <td>841</td>\n",
       "      <td>3846.0</td>\n",
       "    </tr>\n",
       "    <tr>\n",
       "      <th>2011-12-07</th>\n",
       "      <td>-7956</td>\n",
       "      <td>-5761.0</td>\n",
       "      <td>-2196</td>\n",
       "      <td>1089.0</td>\n",
       "      <td>3523</td>\n",
       "      <td>2068.0</td>\n",
       "      <td>1456</td>\n",
       "      <td>-3343.0</td>\n",
       "    </tr>\n",
       "  </tbody>\n",
       "</table>\n",
       "</div>"
      ],
      "text/plain": [
       "            Total Equity  Domestic Equity  World Equity  Hybrid  Total Bond  \\\n",
       "Date                                                                          \n",
       "2011-10-05         -4002          -4499.0           497 -1354.0       -5828   \n",
       "2011-10-12         -7397          -5842.0         -1555   512.0        3954   \n",
       "2011-10-19         -3292          -3466.0           174  1399.0        5652   \n",
       "2011-10-26         -3696          -2998.0          -698  2631.0        4910   \n",
       "2011-12-07         -7956          -5761.0         -2196  1089.0        3523   \n",
       "\n",
       "            Taxable Bond  Municipal Bond    Total  \n",
       "Date                                               \n",
       "2011-10-05       -6258.0             430 -11184.0  \n",
       "2011-10-12        3927.0              28  -2931.0  \n",
       "2011-10-19        5102.0             550   3759.0  \n",
       "2011-10-26        4070.0             841   3846.0  \n",
       "2011-12-07        2068.0            1456  -3343.0  "
      ]
     },
     "execution_count": 3,
     "metadata": {},
     "output_type": "execute_result"
    }
   ],
   "source": [
    "df = df.set_index('Date')\n",
    "df.head()"
   ]
  },
  {
   "cell_type": "markdown",
   "metadata": {},
   "source": [
    "### Step 6. What is the type of the index?"
   ]
  },
  {
   "cell_type": "code",
   "execution_count": null,
   "metadata": {},
   "outputs": [],
   "source": []
  },
  {
   "cell_type": "markdown",
   "metadata": {},
   "source": [
    "### Step 7. Set the index to a DatetimeIndex type"
   ]
  },
  {
   "cell_type": "code",
   "execution_count": null,
   "metadata": {},
   "outputs": [],
   "source": []
  },
  {
   "cell_type": "markdown",
   "metadata": {},
   "source": [
    "### Step 8.  Change the frequency to monthly, sum the values and assign it to monthly."
   ]
  },
  {
   "cell_type": "code",
   "execution_count": null,
   "metadata": {},
   "outputs": [],
   "source": []
  },
  {
   "cell_type": "markdown",
   "metadata": {},
   "source": [
    "### Step 9. You will notice that it filled the dataFrame with months that don't have any data with NaN. Let's drop these rows."
   ]
  },
  {
   "cell_type": "code",
   "execution_count": null,
   "metadata": {},
   "outputs": [],
   "source": []
  },
  {
   "cell_type": "markdown",
   "metadata": {},
   "source": [
    "### Step 10. Good, now we have the monthly data. Now change the frequency to year."
   ]
  },
  {
   "cell_type": "code",
   "execution_count": null,
   "metadata": {},
   "outputs": [],
   "source": []
  },
  {
   "cell_type": "markdown",
   "metadata": {},
   "source": [
    "### BONUS: Create your own question and answer it."
   ]
  },
  {
   "cell_type": "code",
   "execution_count": null,
   "metadata": {
    "collapsed": true
   },
   "outputs": [],
   "source": []
  }
 ],
 "metadata": {
  "kernelspec": {
   "display_name": "Python 3 (ipykernel)",
   "language": "python",
   "name": "python3"
  },
  "language_info": {
   "codemirror_mode": {
    "name": "ipython",
    "version": 3
   },
   "file_extension": ".py",
   "mimetype": "text/x-python",
   "name": "python",
   "nbconvert_exporter": "python",
   "pygments_lexer": "ipython3",
   "version": "3.11.4"
  }
 },
 "nbformat": 4,
 "nbformat_minor": 1
}
