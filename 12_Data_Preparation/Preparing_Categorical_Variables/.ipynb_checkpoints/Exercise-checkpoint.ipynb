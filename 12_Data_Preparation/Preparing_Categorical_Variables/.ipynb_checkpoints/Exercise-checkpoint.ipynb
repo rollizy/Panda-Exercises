{
 "cells": [
  {
   "cell_type": "markdown",
   "id": "4c49d09f-b49a-488a-a18e-97a3fd360048",
   "metadata": {},
   "source": [
    "# Preparing Catergorical Variables\n",
    "- Columns -> Variables/Features\n",
    "- Rows -> Samples"
   ]
  },
  {
   "cell_type": "markdown",
   "id": "ac1d7559",
   "metadata": {},
   "source": [
    "###  Step 1. Import Dependencies\n",
    "\n"
   ]
  },
  {
   "cell_type": "code",
   "execution_count": 1,
   "id": "7c610cae-0691-44a8-bc43-be8fde43df24",
   "metadata": {
    "tags": []
   },
   "outputs": [],
   "source": []
  },
  {
   "cell_type": "markdown",
   "id": "85943745",
   "metadata": {},
   "source": [
    "### Step 2. Create a dataframe from the following dataset\n",
    "Explain what happens when this code runs."
   ]
  },
  {
   "cell_type": "code",
   "execution_count": 9,
   "id": "a65c83be-2402-4dae-b69b-a37e27d4b161",
   "metadata": {
    "tags": []
   },
   "outputs": [],
   "source": [
    "data = pd.DataFrame( \n",
    "                    {\n",
    "                        'Name':['Sizwe','Fatima',np.nan,'Margret','Samson','Miyelani','Neo','Darel'], \n",
    "                        'Age':[29,22,37,45,54,np.nan,12,32],\n",
    "                        'Gender':['Male','Female','Female','Female','Male','Female','Male','Male'],\n",
    "                        # 'MaritalStatus':['Single','Married',np.nan,'Divorced','Married','Married','Single','Divorced'],\n",
    "                        'MaritalStatus':['Single','Married','Divorced','Divorced','Married','Married','Single','Divorced'],\n",
    "                        'Employed':[True,True,False,False,True,False,True,False]    \n",
    "                    })\n"
   ]
  },
  {
   "cell_type": "code",
   "execution_count": null,
   "id": "4b1bb6c7",
   "metadata": {},
   "outputs": [],
   "source": []
  },
  {
   "cell_type": "markdown",
   "id": "b61d85c6",
   "metadata": {},
   "source": [
    "###  Step 4. Identify and list all catergorical Variables"
   ]
  },
  {
   "cell_type": "code",
   "execution_count": null,
   "id": "7f89565f",
   "metadata": {},
   "outputs": [],
   "source": []
  },
  {
   "cell_type": "markdown",
   "id": "6caf70af",
   "metadata": {},
   "source": [
    "### Step 5. Manually prepare the Gender, MaritalStatus and Employed Variables/Columns\n",
    "\n"
   ]
  },
  {
   "cell_type": "code",
   "execution_count": 12,
   "id": "8f033d11-d9e7-48b9-b2ec-8a93321b031f",
   "metadata": {
    "tags": []
   },
   "outputs": [],
   "source": [
    "data_prepared = pd.DataFrame( {\n",
    "                             'Name':['Sizwe','Fatima','Margret','Samson','Miyelani','Neo','Darel'], \n",
    "                              'Age':[29,22,37,45,54,12,32],\n",
    "                              'Gender_Female':[0,1,1,1,1,0,0],\n",
    "                              'Gender_Male':[1,0,0,0,0,1,1],\n",
    "                              'Single':[1,0,0,0,0,1,0],\n",
    "                              'Married':[0,1,0,1,1,0,0],\n",
    "                              'Divorced':[0,0,1,0,0,0,1],\n",
    "                              'Unemployed':[0,0,1,0,1,0,1],\n",
    "                              'Employed':[1,1,0,1,0,1,0]\n",
    "}) \n"
   ]
  },
  {
   "cell_type": "code",
   "execution_count": null,
   "id": "78a92e69",
   "metadata": {},
   "outputs": [],
   "source": []
  },
  {
   "cell_type": "markdown",
   "id": "859c414a-ed2e-4903-b466-5d14e68b793b",
   "metadata": {},
   "source": [
    "# Fix Catergorical Variables using Panda's Get Dummies function\n",
    "##### Referece: [Get Dummies](https://pandas.pydata.org/docs/reference/api/pandas.get_dummies.html)"
   ]
  },
  {
   "cell_type": "markdown",
   "id": "6ecc9716",
   "metadata": {},
   "source": [
    "### Step 1. Isolate catergorical variables from all non catergoriacal variables(Age and Name)"
   ]
  },
  {
   "cell_type": "code",
   "execution_count": null,
   "id": "12baf1fa",
   "metadata": {},
   "outputs": [],
   "source": []
  },
  {
   "cell_type": "markdown",
   "id": "0d0aa957",
   "metadata": {},
   "source": [
    "### Stept 2. Use pandas's get dummies function to automatically prepare catergoriacal variables"
   ]
  },
  {
   "cell_type": "code",
   "execution_count": null,
   "id": "73ea18a7",
   "metadata": {},
   "outputs": [],
   "source": []
  },
  {
   "cell_type": "markdown",
   "id": "41c697e4",
   "metadata": {},
   "source": [
    "### Step 7. Merge final result"
   ]
  },
  {
   "cell_type": "code",
   "execution_count": null,
   "id": "ac9ec988",
   "metadata": {},
   "outputs": [],
   "source": []
  },
  {
   "cell_type": "markdown",
   "id": "202d658b",
   "metadata": {},
   "source": [
    "# Section  - Panda's Get Dummies Excercise 2\n",
    "#### Step 1 . Create a dataframe"
   ]
  },
  {
   "cell_type": "code",
   "execution_count": 16,
   "id": "7f67d426-975d-4afa-8952-70b364302732",
   "metadata": {
    "tags": []
   },
   "outputs": [
    {
     "data": {
      "text/html": [
       "<div>\n",
       "<style scoped>\n",
       "    .dataframe tbody tr th:only-of-type {\n",
       "        vertical-align: middle;\n",
       "    }\n",
       "\n",
       "    .dataframe tbody tr th {\n",
       "        vertical-align: top;\n",
       "    }\n",
       "\n",
       "    .dataframe thead th {\n",
       "        text-align: right;\n",
       "    }\n",
       "</style>\n",
       "<table border=\"1\" class=\"dataframe\">\n",
       "  <thead>\n",
       "    <tr style=\"text-align: right;\">\n",
       "      <th></th>\n",
       "      <th>Group</th>\n",
       "      <th>Symbol</th>\n",
       "      <th>Position</th>\n",
       "      <th>Diet</th>\n",
       "    </tr>\n",
       "  </thead>\n",
       "  <tbody>\n",
       "    <tr>\n",
       "      <th>0</th>\n",
       "      <td>a</td>\n",
       "      <td>b</td>\n",
       "      <td>1</td>\n",
       "      <td>Vegeterian</td>\n",
       "    </tr>\n",
       "    <tr>\n",
       "      <th>1</th>\n",
       "      <td>b</td>\n",
       "      <td>a</td>\n",
       "      <td>2</td>\n",
       "      <td>MeatEater</td>\n",
       "    </tr>\n",
       "    <tr>\n",
       "      <th>2</th>\n",
       "      <td>a</td>\n",
       "      <td>c</td>\n",
       "      <td>3</td>\n",
       "      <td>AmasiAndPuthu</td>\n",
       "    </tr>\n",
       "  </tbody>\n",
       "</table>\n",
       "</div>"
      ],
      "text/plain": [
       "  Group Symbol  Position           Diet\n",
       "0     a      b         1     Vegeterian\n",
       "1     b      a         2      MeatEater\n",
       "2     a      c         3  AmasiAndPuthu"
      ]
     },
     "execution_count": 16,
     "metadata": {},
     "output_type": "execute_result"
    }
   ],
   "source": [
    "df = pd.DataFrame(\n",
    "                    {\n",
    "                     'Group': ['a', 'b', 'a'],\n",
    "                     'Symbol': ['b', 'a', 'c'],\n",
    "                     'Position': [1, 2, 3],\n",
    "                     'Diet':['Vegeterian','MeatEater','AmasiAndPuthu']  \n",
    "                    })\n",
    "\n",
    "df"
   ]
  },
  {
   "cell_type": "markdown",
   "id": "f07bd3e0",
   "metadata": {},
   "source": [
    "##  Step 2. Identify and list all catergorical Variables"
   ]
  },
  {
   "cell_type": "code",
   "execution_count": null,
   "id": "edd34006",
   "metadata": {},
   "outputs": [],
   "source": []
  },
  {
   "cell_type": "markdown",
   "id": "9aa3c91e",
   "metadata": {},
   "source": [
    "##  Step 3. Use pandas's get dummies function to automatically prepare catergoriacal variables"
   ]
  },
  {
   "cell_type": "code",
   "execution_count": null,
   "id": "97781cf2-43e3-4c42-92ec-a24650aeb0ee",
   "metadata": {
    "tags": []
   },
   "outputs": [],
   "source": []
  },
  {
   "cell_type": "markdown",
   "id": "bdd1467c",
   "metadata": {},
   "source": [
    "#  Trasform Catergorical data using SKLearn\n",
    "- from sklearn.preprocessing\n",
    "- use LabelEncoder\n",
    "Reference - [SKLEARN](https://scikit-learn.org/stable/modules/generated/sklearn.preprocessing.LabelEncoder.html)"
   ]
  },
  {
   "cell_type": "markdown",
   "id": "ffb3b9d5",
   "metadata": {},
   "source": [
    "### Question: What does the following code do?\n",
    "\n",
    "Explain what happens when this code runs."
   ]
  },
  {
   "cell_type": "markdown",
   "id": "654e89f5",
   "metadata": {},
   "source": [
    "### Step 1 . Import Dependencies\n"
   ]
  },
  {
   "cell_type": "code",
   "execution_count": null,
   "id": "997fcf02",
   "metadata": {},
   "outputs": [],
   "source": []
  },
  {
   "cell_type": "markdown",
   "id": "824e5446",
   "metadata": {},
   "source": [
    "### Step 2. Create instance of LabelEncoder\n"
   ]
  },
  {
   "cell_type": "code",
   "execution_count": null,
   "id": "53accf0e",
   "metadata": {},
   "outputs": [],
   "source": []
  },
  {
   "cell_type": "markdown",
   "id": "c18ffa57",
   "metadata": {},
   "source": [
    "### Step 3. Create a copy of you original dataset"
   ]
  },
  {
   "cell_type": "code",
   "execution_count": null,
   "id": "3028b2d2",
   "metadata": {},
   "outputs": [],
   "source": []
  },
  {
   "cell_type": "markdown",
   "id": "e62c9b52",
   "metadata": {},
   "source": [
    "### Step 4. Isolate columns to fit int the Encoder/ columns that you want to prepare"
   ]
  },
  {
   "cell_type": "code",
   "execution_count": null,
   "id": "aba30ac0",
   "metadata": {},
   "outputs": [],
   "source": []
  }
 ],
 "metadata": {
  "kernelspec": {
   "display_name": "Python 3 (ipykernel)",
   "language": "python",
   "name": "python3"
  },
  "language_info": {
   "codemirror_mode": {
    "name": "ipython",
    "version": 3
   },
   "file_extension": ".py",
   "mimetype": "text/x-python",
   "name": "python",
   "nbconvert_exporter": "python",
   "pygments_lexer": "ipython3",
   "version": "3.11.4"
  }
 },
 "nbformat": 4,
 "nbformat_minor": 5
}
