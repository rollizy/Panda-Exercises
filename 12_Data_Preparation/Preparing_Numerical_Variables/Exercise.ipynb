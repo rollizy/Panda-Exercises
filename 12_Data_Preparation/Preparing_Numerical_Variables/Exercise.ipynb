{
 "cells": [
  {
   "cell_type": "markdown",
   "id": "2f258bcd-a2fb-4dbb-81c4-cc00d4558b11",
   "metadata": {},
   "source": [
    "# Data Pre-processing\n",
    "## Preparing Numeric Data"
   ]
  },
  {
   "cell_type": "markdown",
   "id": "dfe1501d-522c-4c87-9411-bc7266aea642",
   "metadata": {
    "tags": []
   },
   "source": [
    "#### Introduction\n",
    "- Numeric data tends to be more/better well behaved than text based data \n",
    "- We are going to attemnpt to deal with noisy/extreme numeric data using common metheds/approches/concepts.\n",
    "\n",
    "#### Common methods of dealing with extreme data\n",
    "- Centering and scalling\n",
    "- Dealing with skew(Negative/Positively) Data.\n",
    "- Highly Correlated Variables"
   ]
  },
  {
   "cell_type": "markdown",
   "id": "b520fa6c-6556-445f-9d7a-db4d8d6fd627",
   "metadata": {
    "tags": []
   },
   "source": [
    "##### 1 -  Centering and Scalling\n",
    "- Numeric values tend to have flactuating value that span different ranges.\n",
    "- The higher numeric values can dominate the smaller values.\n",
    "- Centering and Scalling: Is a commond pre-processing technique/approach that puts all valuee(high/low) under one common scale. \n",
    "- The objective is to avoid/stop the higher values from dominating the lower ones.\n",
    "\n",
    "#### Centering and Scalling Steps\n",
    "**1 - Center the data around a new Zero Based Mean**\n",
    "  \n",
    "- 1 Subtract the mean value from each data point/value\n",
    "- **This will center the data around a new Zero Based Mean**\n"
   ]
  },
  {
   "cell_type": "markdown",
   "id": "5d8d0d80",
   "metadata": {},
   "source": []
  },
  {
   "cell_type": "markdown",
   "id": "c0811cb7",
   "metadata": {},
   "source": [
    "### Step 1. Import the necessary libraries"
   ]
  },
  {
   "cell_type": "code",
   "execution_count": 1,
   "id": "e2f800b3-1de8-41d7-ae13-7128d0d28a7c",
   "metadata": {
    "tags": []
   },
   "outputs": [],
   "source": []
  },
  {
   "cell_type": "markdown",
   "id": "a3faf84c",
   "metadata": {},
   "source": [
    "### Step 2. Import the dataset from this [address](https://raw.githubusercontent.com/plotly/datasets/refs/heads/master/mtcars.csv)."
   ]
  },
  {
   "cell_type": "code",
   "execution_count": 1,
   "id": "dd911ce7",
   "metadata": {},
   "outputs": [],
   "source": [
    "#"
   ]
  },
  {
   "cell_type": "markdown",
   "id": "7b03ad10",
   "metadata": {},
   "source": [
    "### Step 3. Assign it to a variable called data."
   ]
  },
  {
   "cell_type": "code",
   "execution_count": null,
   "id": "37118aca",
   "metadata": {},
   "outputs": [],
   "source": []
  },
  {
   "cell_type": "markdown",
   "id": "6da964dc",
   "metadata": {},
   "source": [
    "### Step 4. See the first 10 entries"
   ]
  },
  {
   "cell_type": "code",
   "execution_count": null,
   "id": "ede7e26f",
   "metadata": {},
   "outputs": [],
   "source": []
  },
  {
   "cell_type": "markdown",
   "id": "78684f7f",
   "metadata": {},
   "source": [
    "### Step 5. What is the number of observations in the dataset?"
   ]
  },
  {
   "cell_type": "code",
   "execution_count": null,
   "id": "665afbb5",
   "metadata": {},
   "outputs": [],
   "source": []
  },
  {
   "cell_type": "markdown",
   "id": "d322c3da",
   "metadata": {},
   "source": [
    "### Step 6. What is the number of columns in the dataset?"
   ]
  },
  {
   "cell_type": "code",
   "execution_count": null,
   "id": "63fc9053",
   "metadata": {},
   "outputs": [],
   "source": []
  },
  {
   "cell_type": "markdown",
   "id": "e1bdc837",
   "metadata": {},
   "source": [
    "### Step 7. Print the name of all the columns."
   ]
  },
  {
   "cell_type": "code",
   "execution_count": null,
   "id": "bd0870f5",
   "metadata": {},
   "outputs": [],
   "source": []
  },
  {
   "cell_type": "markdown",
   "id": "433a599b",
   "metadata": {},
   "source": [
    "### Step 8. How is the data indexed?"
   ]
  },
  {
   "cell_type": "code",
   "execution_count": null,
   "id": "ff132b14",
   "metadata": {},
   "outputs": [],
   "source": []
  },
  {
   "cell_type": "markdown",
   "id": "eda26620",
   "metadata": {},
   "source": [
    "### Step 9. Print all indexes"
   ]
  },
  {
   "cell_type": "code",
   "execution_count": null,
   "id": "4cd996c1",
   "metadata": {},
   "outputs": [],
   "source": []
  },
  {
   "cell_type": "markdown",
   "id": "4b8089c3",
   "metadata": {},
   "source": [
    "### Step 10. Fix the dataset to make it easier to work with\n",
    "##### - Our aim is to prepare numerical data, therefore we need to do something about the manufacturer column since most data proccessing operations will not apply to it.\n",
    "##### - **Solution** - Move the manufacturer column to the index section. Replace the index values with the manufacturer column's values"
   ]
  },
  {
   "cell_type": "code",
   "execution_count": null,
   "id": "1e286ae5",
   "metadata": {},
   "outputs": [],
   "source": []
  },
  {
   "cell_type": "markdown",
   "id": "318e4bea",
   "metadata": {},
   "source": [
    "### Step 11. Print first 20 observations/row"
   ]
  },
  {
   "cell_type": "code",
   "execution_count": null,
   "id": "e3c7cfe1-88ba-4db3-a726-bd384e5c8953",
   "metadata": {
    "tags": []
   },
   "outputs": [],
   "source": []
  },
  {
   "cell_type": "markdown",
   "id": "dc16637b",
   "metadata": {},
   "source": [
    "### Step 12. Create a visualization. Build a scatter plot for all column values against the mpg column"
   ]
  },
  {
   "cell_type": "code",
   "execution_count": null,
   "id": "22be655c",
   "metadata": {},
   "outputs": [],
   "source": []
  },
  {
   "cell_type": "markdown",
   "id": "6fd4b663",
   "metadata": {},
   "source": [
    "### Step 13. Create a boxplot to identify outliers in the dataset"
   ]
  },
  {
   "cell_type": "code",
   "execution_count": null,
   "id": "bc5222d4-6b17-43b4-8d88-3e32f28eb12d",
   "metadata": {},
   "outputs": [],
   "source": []
  },
  {
   "cell_type": "markdown",
   "id": "5c7bafec",
   "metadata": {},
   "source": [
    "### Step 14. Show Statistics\n",
    "##### - Display statistical data about your dataset\n"
   ]
  },
  {
   "cell_type": "code",
   "execution_count": null,
   "id": "504e5668",
   "metadata": {},
   "outputs": [],
   "source": []
  },
  {
   "cell_type": "markdown",
   "id": "8e43a709",
   "metadata": {},
   "source": [
    "##### -  What can you say about the standart deviations of all column when compared side by side?"
   ]
  },
  {
   "cell_type": "code",
   "execution_count": null,
   "id": "278cc88d",
   "metadata": {},
   "outputs": [],
   "source": []
  },
  {
   "cell_type": "markdown",
   "id": "20d38d1d",
   "metadata": {},
   "source": [
    "##### What is your conclusion with regards to the noisyness of the data in reference to the standart deviation values?\n",
    "\n",
    "\n"
   ]
  },
  {
   "cell_type": "code",
   "execution_count": null,
   "id": "a0638651",
   "metadata": {},
   "outputs": [],
   "source": []
  },
  {
   "cell_type": "markdown",
   "id": "cf53651c",
   "metadata": {},
   "source": [
    "##### Are there any columns that cointain outliers? please name them:\n"
   ]
  },
  {
   "cell_type": "code",
   "execution_count": null,
   "id": "24bcd215",
   "metadata": {},
   "outputs": [],
   "source": []
  },
  {
   "cell_type": "markdown",
   "id": "82ab145d-d90c-4b2a-9dd0-dc2aa01e7721",
   "metadata": {
    "tags": []
   },
   "source": [
    "### Step 15.  Center the values around a Zero Based Mean\n",
    "\n",
    "- Get the mean of each column\n",
    "- **How to center the values**: Get the **sum** of each column and **devide it by the number of rows/values in that coloumn**\n"
   ]
  },
  {
   "cell_type": "markdown",
   "id": "2eaf65d4",
   "metadata": {},
   "source": [
    "##### Step 15.1 Get the Mean of each column"
   ]
  },
  {
   "cell_type": "code",
   "execution_count": null,
   "id": "e1ac9133-cb34-4866-a46c-279cecf50bfd",
   "metadata": {
    "tags": []
   },
   "outputs": [],
   "source": []
  },
  {
   "cell_type": "markdown",
   "id": "2b5f25d9-c0ff-4eb2-91d4-0a9b1092e6e1",
   "metadata": {},
   "source": [
    "##### Step 15.2  Center the values:\n",
    "- Subtract each and evey columns mean, from each data point/value of in that column\n"
   ]
  },
  {
   "cell_type": "code",
   "execution_count": null,
   "id": "f50fb4c2-bf63-40d7-8b8f-e6ac0f4459f9",
   "metadata": {
    "tags": []
   },
   "outputs": [],
   "source": []
  },
  {
   "cell_type": "markdown",
   "id": "dd1dc1a4-6d0c-4d92-97ee-5b63260ee747",
   "metadata": {},
   "source": [
    "- Negative Values: Represents values that are below/lower than the mean\n",
    "- Positive Values: Represents values that are over/bigger than the mean\n",
    "      \n",
    "## Step 16. **Scale The Data** \n",
    "#### Now that data has been Centered, We are going to **Scale** \n",
    "\n",
    "- This we are going to archive by **dividing all centered datapoints/values by their column's Standart Diviation**\n",
    "\n",
    "- **Standart Deviation** - A statistical value that describes the spread/distribution of numeric values.\n",
    "- The higher the Standart Deviation, the further from the mean/average the values are distributed... **this therefore, alludes to noisy/extreme data**\n",
    "\n",
    "- The standart deviation can be retrieved using the following methind:\n",
    "- Syntax: dataframe.std(), dataFrame.columname.std()"
   ]
  },
  {
   "cell_type": "markdown",
   "id": "4aea7677",
   "metadata": {},
   "source": [
    "### Step 17. Divide all centered datapoints/values by their column's Standart Diviation"
   ]
  },
  {
   "cell_type": "code",
   "execution_count": null,
   "id": "3d6b2c2c-fd41-49ba-958d-36617b2bec4b",
   "metadata": {
    "tags": []
   },
   "outputs": [],
   "source": []
  },
  {
   "cell_type": "markdown",
   "id": "15881375",
   "metadata": {},
   "source": [
    "## Step 18. Visualize difference in data before centering and scalling and After\n"
   ]
  },
  {
   "cell_type": "code",
   "execution_count": 2,
   "id": "6a9bba3f-0c68-4231-95a5-8f19c81e9145",
   "metadata": {},
   "outputs": [],
   "source": [
    "#### Data After cenering and scalling \n",
    "\n"
   ]
  },
  {
   "cell_type": "code",
   "execution_count": null,
   "id": "849e3c8c",
   "metadata": {},
   "outputs": [],
   "source": []
  },
  {
   "cell_type": "code",
   "execution_count": 3,
   "id": "b1272b20-45c1-4c2f-a815-3aca5f550fbe",
   "metadata": {},
   "outputs": [],
   "source": [
    "#### BoxPlot Before cenering and scalling \n"
   ]
  },
  {
   "cell_type": "code",
   "execution_count": 4,
   "id": "0e7a91a5-502b-438d-b50f-2a84bca3f221",
   "metadata": {},
   "outputs": [],
   "source": [
    "#### BoxPlot After cenering and scalling \n",
    "\n"
   ]
  },
  {
   "cell_type": "markdown",
   "id": "68efad78-8657-4a33-b4c6-84e8b44b753c",
   "metadata": {
    "tags": []
   },
   "source": [
    "## Step 19. Preprocessing NumericaL Data Using SKLearn\n",
    "- sklearn comes with a **scale()**: Centering and Scalling\n",
    "- Reference: [Scalling](https://scikit-learn.org/stable/modules/preprocessing.html)\n",
    "\n",
    "\n"
   ]
  },
  {
   "cell_type": "markdown",
   "id": "6a29857d",
   "metadata": {},
   "source": [
    "#### Step 19.1  Import the necessary libraries"
   ]
  },
  {
   "cell_type": "code",
   "execution_count": null,
   "id": "756e88a8-210c-407b-a76f-a8bb5d32ef68",
   "metadata": {
    "tags": []
   },
   "outputs": [],
   "source": []
  },
  {
   "cell_type": "markdown",
   "id": "54ff10c9",
   "metadata": {},
   "source": [
    "### Step 19.2 Initialize the scale() method"
   ]
  },
  {
   "cell_type": "code",
   "execution_count": null,
   "id": "062909e3-2d28-412d-9d8f-55b150173c9d",
   "metadata": {
    "tags": []
   },
   "outputs": [],
   "source": []
  },
  {
   "cell_type": "markdown",
   "id": "40f9f32f",
   "metadata": {},
   "source": [
    "#### Step 19.3.  Create new dataframe with preprocessed results"
   ]
  },
  {
   "cell_type": "code",
   "execution_count": null,
   "id": "0a10d6be-76f7-4a66-acea-cbb9a833af2e",
   "metadata": {
    "tags": []
   },
   "outputs": [],
   "source": []
  },
  {
   "cell_type": "markdown",
   "id": "e28335f5",
   "metadata": {},
   "source": [
    "#### Step 19.4. Create a BoxPlot using centered data from sklearn's scale() function.\n"
   ]
  },
  {
   "cell_type": "code",
   "execution_count": null,
   "id": "1941e1c5-1331-42ee-9cc5-1c901301de60",
   "metadata": {
    "tags": []
   },
   "outputs": [],
   "source": []
  }
 ],
 "metadata": {
  "kernelspec": {
   "display_name": "Python 3 (ipykernel)",
   "language": "python",
   "name": "python3"
  },
  "language_info": {
   "codemirror_mode": {
    "name": "ipython",
    "version": 3
   },
   "file_extension": ".py",
   "mimetype": "text/x-python",
   "name": "python",
   "nbconvert_exporter": "python",
   "pygments_lexer": "ipython3",
   "version": "3.11.4"
  }
 },
 "nbformat": 4,
 "nbformat_minor": 5
}
